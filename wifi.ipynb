{
 "cells": [
  {
   "cell_type": "code",
   "execution_count": 1,
   "metadata": {},
   "outputs": [],
   "source": [
    "import numpy as np\n",
    "import pandas as pd \n",
    "import seaborn as sns\n",
    "import matplotlib.pyplot as plt \n",
    "%matplotlib inline"
   ]
  },
  {
   "cell_type": "code",
   "execution_count": 6,
   "metadata": {},
   "outputs": [],
   "source": [
    "df = pd.read_csv(r'C:\\Users\\GudWin\\Desktop\\wifi_localization.txt', sep=\"\\t\", header=None, names=[\"s1\", \"s2\", \"s3\", \"s4\", \"s5\", \"s6\", \"s7\", \"room\"])"
   ]
  },
  {
   "cell_type": "code",
   "execution_count": 7,
   "metadata": {},
   "outputs": [
    {
     "data": {
      "text/html": [
       "<div>\n",
       "<style scoped>\n",
       "    .dataframe tbody tr th:only-of-type {\n",
       "        vertical-align: middle;\n",
       "    }\n",
       "\n",
       "    .dataframe tbody tr th {\n",
       "        vertical-align: top;\n",
       "    }\n",
       "\n",
       "    .dataframe thead th {\n",
       "        text-align: right;\n",
       "    }\n",
       "</style>\n",
       "<table border=\"1\" class=\"dataframe\">\n",
       "  <thead>\n",
       "    <tr style=\"text-align: right;\">\n",
       "      <th></th>\n",
       "      <th>s1</th>\n",
       "      <th>s2</th>\n",
       "      <th>s3</th>\n",
       "      <th>s4</th>\n",
       "      <th>s5</th>\n",
       "      <th>s6</th>\n",
       "      <th>s7</th>\n",
       "      <th>room</th>\n",
       "    </tr>\n",
       "  </thead>\n",
       "  <tbody>\n",
       "    <tr>\n",
       "      <th>0</th>\n",
       "      <td>-64</td>\n",
       "      <td>-56</td>\n",
       "      <td>-61</td>\n",
       "      <td>-66</td>\n",
       "      <td>-71</td>\n",
       "      <td>-82</td>\n",
       "      <td>-81</td>\n",
       "      <td>1</td>\n",
       "    </tr>\n",
       "    <tr>\n",
       "      <th>1</th>\n",
       "      <td>-68</td>\n",
       "      <td>-57</td>\n",
       "      <td>-61</td>\n",
       "      <td>-65</td>\n",
       "      <td>-71</td>\n",
       "      <td>-85</td>\n",
       "      <td>-85</td>\n",
       "      <td>1</td>\n",
       "    </tr>\n",
       "    <tr>\n",
       "      <th>2</th>\n",
       "      <td>-63</td>\n",
       "      <td>-60</td>\n",
       "      <td>-60</td>\n",
       "      <td>-67</td>\n",
       "      <td>-76</td>\n",
       "      <td>-85</td>\n",
       "      <td>-84</td>\n",
       "      <td>1</td>\n",
       "    </tr>\n",
       "    <tr>\n",
       "      <th>3</th>\n",
       "      <td>-61</td>\n",
       "      <td>-60</td>\n",
       "      <td>-68</td>\n",
       "      <td>-62</td>\n",
       "      <td>-77</td>\n",
       "      <td>-90</td>\n",
       "      <td>-80</td>\n",
       "      <td>1</td>\n",
       "    </tr>\n",
       "    <tr>\n",
       "      <th>4</th>\n",
       "      <td>-63</td>\n",
       "      <td>-65</td>\n",
       "      <td>-60</td>\n",
       "      <td>-63</td>\n",
       "      <td>-77</td>\n",
       "      <td>-81</td>\n",
       "      <td>-87</td>\n",
       "      <td>1</td>\n",
       "    </tr>\n",
       "  </tbody>\n",
       "</table>\n",
       "</div>"
      ],
      "text/plain": [
       "   s1  s2  s3  s4  s5  s6  s7  room\n",
       "0 -64 -56 -61 -66 -71 -82 -81     1\n",
       "1 -68 -57 -61 -65 -71 -85 -85     1\n",
       "2 -63 -60 -60 -67 -76 -85 -84     1\n",
       "3 -61 -60 -68 -62 -77 -90 -80     1\n",
       "4 -63 -65 -60 -63 -77 -81 -87     1"
      ]
     },
     "execution_count": 7,
     "metadata": {},
     "output_type": "execute_result"
    }
   ],
   "source": [
    "df.head()"
   ]
  },
  {
   "cell_type": "code",
   "execution_count": 12,
   "metadata": {},
   "outputs": [],
   "source": [
    "X = df.iloc[:, :7]\n",
    "y = df.iloc[:, 7]"
   ]
  },
  {
   "cell_type": "code",
   "execution_count": 13,
   "metadata": {},
   "outputs": [
    {
     "data": {
      "text/html": [
       "<div>\n",
       "<style scoped>\n",
       "    .dataframe tbody tr th:only-of-type {\n",
       "        vertical-align: middle;\n",
       "    }\n",
       "\n",
       "    .dataframe tbody tr th {\n",
       "        vertical-align: top;\n",
       "    }\n",
       "\n",
       "    .dataframe thead th {\n",
       "        text-align: right;\n",
       "    }\n",
       "</style>\n",
       "<table border=\"1\" class=\"dataframe\">\n",
       "  <thead>\n",
       "    <tr style=\"text-align: right;\">\n",
       "      <th></th>\n",
       "      <th>s1</th>\n",
       "      <th>s2</th>\n",
       "      <th>s3</th>\n",
       "      <th>s4</th>\n",
       "      <th>s5</th>\n",
       "      <th>s6</th>\n",
       "      <th>s7</th>\n",
       "    </tr>\n",
       "  </thead>\n",
       "  <tbody>\n",
       "    <tr>\n",
       "      <th>0</th>\n",
       "      <td>-64</td>\n",
       "      <td>-56</td>\n",
       "      <td>-61</td>\n",
       "      <td>-66</td>\n",
       "      <td>-71</td>\n",
       "      <td>-82</td>\n",
       "      <td>-81</td>\n",
       "    </tr>\n",
       "    <tr>\n",
       "      <th>1</th>\n",
       "      <td>-68</td>\n",
       "      <td>-57</td>\n",
       "      <td>-61</td>\n",
       "      <td>-65</td>\n",
       "      <td>-71</td>\n",
       "      <td>-85</td>\n",
       "      <td>-85</td>\n",
       "    </tr>\n",
       "    <tr>\n",
       "      <th>2</th>\n",
       "      <td>-63</td>\n",
       "      <td>-60</td>\n",
       "      <td>-60</td>\n",
       "      <td>-67</td>\n",
       "      <td>-76</td>\n",
       "      <td>-85</td>\n",
       "      <td>-84</td>\n",
       "    </tr>\n",
       "    <tr>\n",
       "      <th>3</th>\n",
       "      <td>-61</td>\n",
       "      <td>-60</td>\n",
       "      <td>-68</td>\n",
       "      <td>-62</td>\n",
       "      <td>-77</td>\n",
       "      <td>-90</td>\n",
       "      <td>-80</td>\n",
       "    </tr>\n",
       "    <tr>\n",
       "      <th>4</th>\n",
       "      <td>-63</td>\n",
       "      <td>-65</td>\n",
       "      <td>-60</td>\n",
       "      <td>-63</td>\n",
       "      <td>-77</td>\n",
       "      <td>-81</td>\n",
       "      <td>-87</td>\n",
       "    </tr>\n",
       "  </tbody>\n",
       "</table>\n",
       "</div>"
      ],
      "text/plain": [
       "   s1  s2  s3  s4  s5  s6  s7\n",
       "0 -64 -56 -61 -66 -71 -82 -81\n",
       "1 -68 -57 -61 -65 -71 -85 -85\n",
       "2 -63 -60 -60 -67 -76 -85 -84\n",
       "3 -61 -60 -68 -62 -77 -90 -80\n",
       "4 -63 -65 -60 -63 -77 -81 -87"
      ]
     },
     "execution_count": 13,
     "metadata": {},
     "output_type": "execute_result"
    }
   ],
   "source": [
    "X.head()"
   ]
  },
  {
   "cell_type": "code",
   "execution_count": 14,
   "metadata": {},
   "outputs": [
    {
     "data": {
      "text/plain": [
       "0    1\n",
       "1    1\n",
       "2    1\n",
       "3    1\n",
       "4    1\n",
       "Name: room, dtype: int64"
      ]
     },
     "execution_count": 14,
     "metadata": {},
     "output_type": "execute_result"
    }
   ],
   "source": [
    "y.head()"
   ]
  },
  {
   "cell_type": "code",
   "execution_count": 16,
   "metadata": {},
   "outputs": [],
   "source": [
    "from sklearn.model_selection import train_test_split"
   ]
  },
  {
   "cell_type": "code",
   "execution_count": 17,
   "metadata": {},
   "outputs": [],
   "source": [
    "X_train, X_test, y_train, y_test = train_test_split(X,y, shuffle=True, stratify=y, test_size=0.2)"
   ]
  },
  {
   "cell_type": "code",
   "execution_count": 19,
   "metadata": {},
   "outputs": [],
   "source": [
    "from sklearn import linear_model"
   ]
  },
  {
   "cell_type": "code",
   "execution_count": 20,
   "metadata": {},
   "outputs": [
    {
     "name": "stderr",
     "output_type": "stream",
     "text": [
      "c:\\users\\gudwin\\appdata\\local\\programs\\python\\python37-32\\lib\\site-packages\\sklearn\\linear_model\\logistic.py:433: FutureWarning: Default solver will be changed to 'lbfgs' in 0.22. Specify a solver to silence this warning.\n",
      "  FutureWarning)\n",
      "c:\\users\\gudwin\\appdata\\local\\programs\\python\\python37-32\\lib\\site-packages\\sklearn\\linear_model\\logistic.py:460: FutureWarning: Default multi_class will be changed to 'auto' in 0.22. Specify the multi_class option to silence this warning.\n",
      "  \"this warning.\", FutureWarning)\n"
     ]
    },
    {
     "data": {
      "text/plain": [
       "LogisticRegression(C=1.0, class_weight=None, dual=False, fit_intercept=True,\n",
       "          intercept_scaling=1, max_iter=100, multi_class='warn',\n",
       "          n_jobs=None, penalty='l2', random_state=None, solver='warn',\n",
       "          tol=0.0001, verbose=0, warm_start=False)"
      ]
     },
     "execution_count": 20,
     "metadata": {},
     "output_type": "execute_result"
    }
   ],
   "source": [
    "log_full = linear_model.LogisticRegression()\n",
    "log_full.fit(X_train, y_train)"
   ]
  },
  {
   "cell_type": "code",
   "execution_count": 21,
   "metadata": {},
   "outputs": [],
   "source": [
    "from sklearn import metrics"
   ]
  },
  {
   "cell_type": "code",
   "execution_count": 22,
   "metadata": {},
   "outputs": [
    {
     "name": "stdout",
     "output_type": "stream",
     "text": [
      "1063    3\n",
      "942     2\n",
      "376     1\n",
      "1477    3\n",
      "1761    4\n",
      "579     2\n",
      "143     1\n",
      "1092    3\n",
      "393     1\n",
      "1530    4\n",
      "1436    3\n",
      "585     2\n",
      "1291    3\n",
      "1724    4\n",
      "797     2\n",
      "720     2\n",
      "244     1\n",
      "1443    3\n",
      "884     2\n",
      "1529    4\n",
      "105     1\n",
      "1910    4\n",
      "355     1\n",
      "1171    3\n",
      "1485    3\n",
      "875     2\n",
      "1922    4\n",
      "326     1\n",
      "566     2\n",
      "669     2\n",
      "       ..\n",
      "144     1\n",
      "1572    4\n",
      "61      1\n",
      "249     1\n",
      "1161    3\n",
      "353     1\n",
      "671     2\n",
      "1431    3\n",
      "695     2\n",
      "1778    4\n",
      "1534    4\n",
      "424     1\n",
      "1195    3\n",
      "1767    4\n",
      "1588    4\n",
      "1196    3\n",
      "1516    4\n",
      "805     2\n",
      "411     1\n",
      "1583    4\n",
      "1834    4\n",
      "916     2\n",
      "976     2\n",
      "14      1\n",
      "1058    3\n",
      "1469    3\n",
      "1980    4\n",
      "1458    3\n",
      "280     1\n",
      "1509    4\n",
      "Name: room, Length: 400, dtype: int64\n",
      "[3 2 1 3 4 2 1 3 1 4 3 2 3 4 2 2 1 3 2 4 1 4 1 3 3 2 4 1 3 2 2 2 3 3 4 4 2\n",
      " 2 1 1 3 2 4 3 4 4 3 1 2 4 2 1 2 2 3 4 1 4 2 4 2 1 1 1 2 4 2 4 1 1 4 2 2 1\n",
      " 4 2 1 1 1 2 4 1 2 3 2 3 2 2 3 2 1 2 1 2 3 4 1 2 4 2 1 3 3 3 1 2 3 3 4 2 1\n",
      " 2 4 1 4 2 1 4 1 1 1 4 2 1 4 4 1 1 3 2 2 3 1 3 4 4 1 4 4 4 4 3 2 2 3 4 2 4\n",
      " 3 1 1 3 4 2 4 1 4 3 4 4 1 4 3 2 2 3 2 4 3 4 4 4 1 3 4 2 3 3 2 3 1 3 1 1 1\n",
      " 2 3 2 3 2 4 1 3 1 3 2 3 1 3 4 2 3 3 1 3 4 3 3 1 2 1 1 3 3 2 4 4 4 2 3 3 3\n",
      " 1 2 2 2 4 4 1 2 3 2 3 3 2 3 2 2 3 3 2 2 4 2 1 2 1 1 1 4 4 1 1 4 3 1 2 4 3\n",
      " 3 1 1 3 3 1 3 2 3 2 2 1 1 3 4 4 2 3 2 4 2 4 3 1 3 3 2 2 1 1 1 4 1 2 1 4 3\n",
      " 4 3 4 2 3 1 4 2 4 1 2 4 3 4 1 3 1 4 1 2 4 3 1 3 1 2 3 3 4 4 3 2 3 4 4 1 2\n",
      " 2 1 3 1 4 1 2 3 1 4 3 2 3 1 4 3 4 2 1 3 2 4 4 3 1 1 1 4 4 2 4 2 1 4 3 3 4\n",
      " 1 4 1 1 3 1 2 3 2 4 4 1 3 4 4 3 4 2 1 4 4 2 2 1 3 3 4 3 1 4]\n",
      "Accuracy 0.9775\n"
     ]
    }
   ],
   "source": [
    "full_predict = log_full.predict(X_test)\n",
    "print(y_test)\n",
    "print(full_predict)\n",
    "print(\"Accuracy\", metrics.accuracy_score(y_test, full_predict))\n"
   ]
  },
  {
   "cell_type": "code",
   "execution_count": null,
   "metadata": {},
   "outputs": [],
   "source": []
  }
 ],
 "metadata": {
  "kernelspec": {
   "display_name": "Python 3",
   "language": "python",
   "name": "python3"
  },
  "language_info": {
   "codemirror_mode": {
    "name": "ipython",
    "version": 3
   },
   "file_extension": ".py",
   "mimetype": "text/x-python",
   "name": "python",
   "nbconvert_exporter": "python",
   "pygments_lexer": "ipython3",
   "version": "3.7.2"
  }
 },
 "nbformat": 4,
 "nbformat_minor": 2
}
